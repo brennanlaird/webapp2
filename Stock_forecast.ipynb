{
 "cells": [
  {
   "cell_type": "markdown",
   "id": "9f0a4d75",
   "metadata": {},
   "source": [
    "## WGU Capstone - Brennan Laird - Stock Price Forecasting"
   ]
  },
  {
   "cell_type": "code",
   "execution_count": 1,
   "id": "56b6a4f9",
   "metadata": {},
   "outputs": [],
   "source": [
    "# import statements for Python code\n",
    "import pandas as pd\n",
    "import numpy as np\n",
    "import matplotlib.pyplot as plt\n",
    "from matplotlib import pyplot\n",
    "import math\n",
    "import pandas_ta\n",
    "import itertools\n",
    "from tqdm.notebook import tqdm\n",
    "from sklearn.metrics import mean_squared_error\n",
    "import plotly.graph_objects as go\n",
    "\n",
    "import warnings\n",
    "warnings.filterwarnings(\"ignore\")"
   ]
  },
  {
   "cell_type": "code",
   "execution_count": 16,
   "id": "38b08354",
   "metadata": {},
   "outputs": [],
   "source": [
    "# Additional import statements specific to the ML portion\n",
    "from statsmodels.tsa.stattools import adfuller\n",
    "from statsmodels.tsa.seasonal import seasonal_decompose\n",
    "from statsmodels.tsa.arima.model import ARIMA\n",
    "from statsmodels.tsa.ar_model import AutoReg\n",
    "\n",
    "from statsmodels.graphics.tsaplots import plot_acf\n",
    "#from pmdarima.arima import auto_arima\n",
    "\n"
   ]
  },
  {
   "cell_type": "code",
   "execution_count": 17,
   "id": "0744ef70",
   "metadata": {},
   "outputs": [],
   "source": [
    "#imports for use in creating the web app portion\n",
    "import ipywidgets as widgets\n",
    "from ipywidgets import interactive,interact\n",
    "from IPython.display import display, clear_output"
   ]
  },
  {
   "cell_type": "code",
   "execution_count": 18,
   "id": "cb783036",
   "metadata": {},
   "outputs": [],
   "source": [
    "def get_data(ticker):\n",
    "\t# Import the CSV file \n",
    "\t#This should be converted to a function that will be called based on the ticker symbol passed via the Anvil code.\n",
    "\n",
    "\tpath = 'C:\\\\Users\\\\brenn\\\\Documents\\\\School\\\\C964 - Capstone\\\\Datasets\\\\Stocks and ETF\\\\Stocks\\\\'\n",
    "\n",
    "\textension = '.us.txt'\n",
    "\tfile_name = path + ticker + extension\n",
    "\n",
    "\t# Read the specified price into a dataframe\n",
    "\tprice_data = pd.read_csv(file_name, index_col = 'Date', parse_dates=['Date'])\n",
    "\t\n",
    "\tprice_fig = go.Figure()\n",
    "\n",
    "\tprice_fig.add_trace(go.Scatter(x=list(price_data.index), y=list(price_data['Close'])))\n",
    "\n",
    "\ttitle = ticker + \" Price\"\n",
    "\tprice_fig.update_layout(title_text = title)\n",
    "\n",
    "\n",
    "\t# Add range slider\n",
    "\tprice_fig.update_layout(\n",
    "\t\txaxis=dict(\n",
    "\t\t\trangeselector=dict(\n",
    "\t\t\t\tbuttons=list([\n",
    "\t\t\t\t\tdict(count=1,\n",
    "\t\t\t\t\t\tlabel=\"1m\",\n",
    "\t\t\t\t\t\tstep=\"month\",\n",
    "\t\t\t\t\t\tstepmode=\"backward\"),\n",
    "\t\t\t\t\tdict(count=6,\n",
    "\t\t\t\t\t\tlabel=\"6m\",\n",
    "\t\t\t\t\t\tstep=\"month\",\n",
    "\t\t\t\t\t\tstepmode=\"backward\"),\n",
    "\t\t\t\t\tdict(count=1,\n",
    "\t\t\t\t\t\tlabel=\"YTD\",\n",
    "\t\t\t\t\t\tstep=\"year\",\n",
    "\t\t\t\t\t\tstepmode=\"todate\"),\n",
    "\t\t\t\t\tdict(count=1,\n",
    "\t\t\t\t\t\tlabel=\"1y\",\n",
    "\t\t\t\t\t\tstep=\"year\",\n",
    "\t\t\t\t\t\tstepmode=\"backward\"),\n",
    "\t\t\t\t\tdict(step=\"all\")\n",
    "\t\t\t\t])\n",
    "\t\t\t),\n",
    "\t\t\trangeslider=dict(\n",
    "\t\t\t\tvisible=True\n",
    "\t\t\t),\n",
    "\t\t\ttype=\"date\"\n",
    "\t\t)\n",
    "\t)\n",
    "\n",
    "\tprice_fig.show()\n",
    "\t\n",
    "\t\n",
    "\t\n",
    "\tvol_fig = go.Figure()\n",
    "\n",
    "\tvol_fig.add_trace(go.Scatter(x=list(price_data.index), y=list(price_data['Volume'])))\n",
    "\n",
    "\ttitle = ticker + \" Volume\"\n",
    "\tvol_fig.update_layout(title_text = title)\n",
    "\t\n",
    "\t\t# Add range slider\n",
    "\tvol_fig.update_layout(\n",
    "\t\txaxis=dict(\n",
    "\t\t\trangeselector=dict(\n",
    "\t\t\t\tbuttons=list([\n",
    "\t\t\t\t\tdict(count=1,\n",
    "\t\t\t\t\t\tlabel=\"1m\",\n",
    "\t\t\t\t\t\tstep=\"month\",\n",
    "\t\t\t\t\t\tstepmode=\"backward\"),\n",
    "\t\t\t\t\tdict(count=6,\n",
    "\t\t\t\t\t\tlabel=\"6m\",\n",
    "\t\t\t\t\t\tstep=\"month\",\n",
    "\t\t\t\t\t\tstepmode=\"backward\"),\n",
    "\t\t\t\t\tdict(count=1,\n",
    "\t\t\t\t\t\tlabel=\"YTD\",\n",
    "\t\t\t\t\t\tstep=\"year\",\n",
    "\t\t\t\t\t\tstepmode=\"todate\"),\n",
    "\t\t\t\t\tdict(count=1,\n",
    "\t\t\t\t\t\tlabel=\"1y\",\n",
    "\t\t\t\t\t\tstep=\"year\",\n",
    "\t\t\t\t\t\tstepmode=\"backward\"),\n",
    "\t\t\t\t\tdict(step=\"all\")\n",
    "\t\t\t\t])\n",
    "\t\t\t),\n",
    "\t\t\trangeslider=dict(\n",
    "\t\t\t\tvisible=True\n",
    "\t\t\t),\n",
    "\t\t\ttype=\"date\"\n",
    "\t\t)\n",
    "\t)\n",
    "\n",
    "\tvol_fig.show()\n",
    "\t\n",
    "\t# Adding the 50-day and 200-day moving averages to the dataframe\n",
    "\tprice_data['50dayMA'] = price_data.Close.rolling(50).mean()\n",
    "\tprice_data['200dayMA'] = price_data.Close.rolling(200).mean()\n",
    "\t\n",
    "\tma_fig = go.Figure()\n",
    "\n",
    "\tma_fig.add_trace(go.Scatter(x=list(price_data.index), y=list(price_data['Close'])))\n",
    "\tma_fig.add_trace(go.Scatter(x=list(price_data.index), y=list(price_data['50dayMA'])))\n",
    "\tma_fig.add_trace(go.Scatter(x=list(price_data.index), y=list(price_data['200dayMA'])))\n",
    "\n",
    "\n",
    "\ttitle = ticker + \" Moving Averages\"\n",
    "\tma_fig.update_layout(title_text = title)\n",
    "\n",
    "\n",
    "\t# Add range slider\n",
    "\tma_fig.update_layout(\n",
    "\t\txaxis=dict(\n",
    "\t\t\trangeselector=dict(\n",
    "\t\t\t\tbuttons=list([\n",
    "\t\t\t\t\tdict(count=1,\n",
    "\t\t\t\t\t\t label=\"1m\",\n",
    "\t\t\t\t\t\t step=\"month\",\n",
    "\t\t\t\t\t\t stepmode=\"backward\"),\n",
    "\t\t\t\t\tdict(count=6,\n",
    "\t\t\t\t\t\t label=\"6m\",\n",
    "\t\t\t\t\t\t step=\"month\",\n",
    "\t\t\t\t\t\t stepmode=\"backward\"),\n",
    "\t\t\t\t\tdict(count=1,\n",
    "\t\t\t\t\t\t label=\"YTD\",\n",
    "\t\t\t\t\t\t step=\"year\",\n",
    "\t\t\t\t\t\t stepmode=\"todate\"),\n",
    "\t\t\t\t\tdict(count=1,\n",
    "\t\t\t\t\t\t label=\"1y\",\n",
    "\t\t\t\t\t\t step=\"year\",\n",
    "\t\t\t\t\t\t stepmode=\"backward\"),\n",
    "\t\t\t\t\tdict(step=\"all\")\n",
    "\t\t\t\t])\n",
    "\t\t\t),\n",
    "\t\t\trangeslider=dict(\n",
    "\t\t\t\tvisible=True\n",
    "\t\t\t),\n",
    "\t\t\ttype=\"date\"\n",
    "\t\t)\n",
    "\t)\n",
    "\n",
    "\tma_fig.show()\n",
    "\t\n",
    "\t\n",
    "\tprice_data.ta.ema(close='Close', length = 10, append = True)\n",
    "\t\n",
    "\tprice_data_trunc = price_data.iloc[10:]\n",
    "\t\n",
    "\t"
   ]
  },
  {
   "cell_type": "code",
   "execution_count": 19,
   "id": "ddd2b59e",
   "metadata": {
    "scrolled": false
   },
   "outputs": [
    {
     "data": {
      "text/plain": "Dropdown(options=('', 'AAPL', 'GME'), value='')",
      "application/vnd.jupyter.widget-view+json": {
       "version_major": 2,
       "version_minor": 0,
       "model_id": "1b6ac0ee5abc463c8afa3ee4c8ee23a2"
      }
     },
     "metadata": {},
     "output_type": "display_data"
    }
   ],
   "source": [
    "ticker_box = widgets.Dropdown(options=['','AAPL', 'GME'])\n",
    "ticker_box.value = ''\n",
    "display(ticker_box)"
   ]
  },
  {
   "cell_type": "code",
   "execution_count": 6,
   "id": "713b4f4b",
   "metadata": {},
   "outputs": [],
   "source": [
    "def on_data_click(b):\n",
    "    with out:\n",
    "        clear_output()\n",
    "        ticker = ticker_box.value\n",
    "        if ticker == '':\n",
    "            #Do nothing\n",
    "            print(\"Nothing selected\")\n",
    "            return\n",
    "        else:\n",
    "            get_data(ticker)\n",
    "            return ticker"
   ]
  },
  {
   "cell_type": "code",
   "execution_count": 7,
   "id": "26e5d293",
   "metadata": {},
   "outputs": [
    {
     "data": {
      "text/plain": "VBox(children=(Button(description='Get Data', style=ButtonStyle()), Output()))",
      "application/vnd.jupyter.widget-view+json": {
       "version_major": 2,
       "version_minor": 0,
       "model_id": "a4279df8624e402381215b39b1130cf0"
      }
     },
     "metadata": {},
     "output_type": "display_data"
    }
   ],
   "source": [
    "data_button = widgets.Button(description='Get Data', disabled=False)\n",
    "out = widgets.Output()\n",
    "#ticker = ticker_box.value\n",
    "\n",
    "        \n",
    "# linking button and function together using a button's method\n",
    "data_button.on_click(on_data_click)\n",
    "\n",
    "widgets.VBox([data_button,out])"
   ]
  },
  {
   "cell_type": "markdown",
   "id": "28ed167d",
   "metadata": {},
   "source": [
    "## Adding the EMA to the dataset"
   ]
  },
  {
   "cell_type": "markdown",
   "id": "aeb447fa",
   "metadata": {},
   "source": [
    "## Rolling Forecast ARIMA Model with EMA Data"
   ]
  },
  {
   "cell_type": "code",
   "execution_count": 8,
   "id": "5a8466a7",
   "metadata": {},
   "outputs": [],
   "source": [
    "# #Split the data into training and testing sets\n",
    "\n",
    "# train_set, test_set = price_data_trunc[0:int(len(price_data_trunc)*0.66)], price_data_trunc[int(len(price_data_trunc)*0.66):]\n",
    "\n",
    "# train_array = train_set['EMA_10'].values\n",
    "# test_array = test_set['EMA_10'].values\n",
    "# predictions = []"
   ]
  },
  {
   "cell_type": "code",
   "execution_count": 9,
   "id": "e4e3295c",
   "metadata": {
    "scrolled": true
   },
   "outputs": [],
   "source": [
    "# history = price_data_trunc[0:len(price_data_trunc)]"
   ]
  },
  {
   "cell_type": "code",
   "execution_count": 10,
   "id": "72dcc780",
   "metadata": {},
   "outputs": [],
   "source": [
    "#history.info()"
   ]
  },
  {
   "cell_type": "code",
   "execution_count": 11,
   "id": "d91ae2a3",
   "metadata": {
    "scrolled": true
   },
   "outputs": [],
   "source": [
    "# # Puts the EMA prices into a list\n",
    "# if ticker_box.value != '':\n",
    "#     history = [i for i in price_data_trunc['EMA_10']]\n",
    "\n",
    "#     #Puts the history into a dataframe\n",
    "#     history_df = pd.DataFrame(history)\n",
    "\n",
    "#     #Create a 30 day rolling forecat\n",
    "#     for i in tqdm(range(30)):\n",
    "#         # Runs and fits the ARIMA model with the specified order\n",
    "#         model = ARIMA(history, order=(2,1,3))\n",
    "#         model_fit = model.fit()\n",
    "    \n",
    "#         # Uses the forecast method to predict a single future timestep\n",
    "#         next_forecast = model_fit.forecast()\n",
    "    \n",
    "#         # Gets the value of the next prediction\n",
    "#         next_pred = next_forecast[0]\n",
    "    \n",
    "    \n",
    "#         #pd.concat(history,next_forecast)\n",
    "#         history.append(next_pred)\n",
    "#         predictions.append(next_pred)\n",
    "    \n",
    "#         #print(\"Loop \", i, \" prediction : \", next_pred)\n",
    "# else:\n",
    "#     print(\"No Ticker selected\")"
   ]
  },
  {
   "cell_type": "code",
   "execution_count": 12,
   "id": "08566326",
   "metadata": {},
   "outputs": [],
   "source": [
    "# pred_df = pd.DataFrame(predictions)\n",
    "# pred_df.index = pred_df.index + len(history)-30"
   ]
  },
  {
   "cell_type": "code",
   "execution_count": 13,
   "id": "435d611d",
   "metadata": {},
   "outputs": [],
   "source": [
    "#pred_df.info()"
   ]
  },
  {
   "cell_type": "code",
   "execution_count": 14,
   "id": "5d8eed23",
   "metadata": {},
   "outputs": [],
   "source": [
    "# ax = history_df.plot( xlim=[len(history_df)-365, len(history_df)+len(pred_df)], figsize = (20,10))\n",
    "# pred_df.plot(ax = ax)"
   ]
  },
  {
   "cell_type": "code",
   "execution_count": 14,
   "id": "d301a2eb",
   "metadata": {},
   "outputs": [],
   "source": []
  },
  {
   "cell_type": "markdown",
   "id": "5cbc516c",
   "metadata": {},
   "source": [
    "## Below loop is used to find the minimum AIC Value"
   ]
  },
  {
   "cell_type": "code",
   "execution_count": 15,
   "id": "8b334184",
   "metadata": {},
   "outputs": [],
   "source": [
    "# history = [i for i in price_data_trunc['EMA_10']]\n",
    "# #Setting up the ranges to search within\n",
    "# p=q=range(10,16)\n",
    "# d=range(0,2)\n",
    "\n",
    "# #Creates a list of all combinations within the specified range\n",
    "# pdq = list(itertools.product(p,d,q))\n",
    "\n",
    "# # Set the minimum to a high number\n",
    "# min_aic = 1000000\n",
    "\n",
    "# #Iterate through each item in the list to find the minimum value of AIC\n",
    "# for item in tqdm(pdq):\n",
    "#     model = ARIMA(history, order=item)\n",
    "#     model_fit = model.fit()\n",
    "#     if model_fit.aic < min_aic:\n",
    "#         min_aic = model_fit.aic\n",
    "#         item_best = item\n",
    "#         #print(\"Best so far: \", item_best, \" AIC: \", min_aic )  \n",
    "# print(item_best, \" AIC: \", min_aic ) "
   ]
  }
 ],
 "metadata": {
  "kernelspec": {
   "display_name": "Python 3 (ipykernel)",
   "language": "python",
   "name": "python3"
  },
  "language_info": {
   "codemirror_mode": {
    "name": "ipython",
    "version": 3
   },
   "file_extension": ".py",
   "mimetype": "text/x-python",
   "name": "python",
   "nbconvert_exporter": "python",
   "pygments_lexer": "ipython3",
   "version": "3.9.7"
  }
 },
 "nbformat": 4,
 "nbformat_minor": 5
}